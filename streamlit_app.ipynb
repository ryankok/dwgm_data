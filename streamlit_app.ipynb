{
 "cells": [
  {
   "cell_type": "code",
   "execution_count": null,
   "metadata": {},
   "outputs": [],
   "source": [
    "import streamlit as st\n",
    "import subprocess\n",
    "\n",
    "def run_script(script_path, user_id):\n",
    "    p = subprocess.Popen([\"python\", script_path, user_id], stdout=subprocess.PIPE, stderr=subprocess.PIPE)\n",
    "    out, err = p.communicate()\n",
    "    return out.decode('utf-8')\n",
    "\n",
    "st.title(\"Woodside Int Reports Scripts\")\n",
    "\n",
    "# User input for the ID\n",
    "user_id = st.text_input(\"Enter your ID:\")\n",
    "\n",
    "# Define paths to your Python scripts based on user input\n",
    "script1 = fr\"C:/Users/{user_id}/OneDrive - Woodside Energy Ltd/EA OneDrive Shared/int041_files/int041_python_script.py\"\n",
    "script2 = fr\"C:/Users/{user_id}/OneDrive - Woodside Energy Ltd/EA OneDrive Shared/int131_files/int131_python_script.py\"\n",
    "script3 = fr\"C:/Users/{user_id}/OneDrive - Woodside Energy Ltd/EA OneDrive Shared/int235_files/int235_extract_clean.py\"\n",
    "\n",
    "script_paths = [script1, script2, script3]\n",
    "\n",
    "# Run individual scripts\n",
    "for script_path in script_paths:\n",
    "    script_name = script_path.split('/')[-1].split('_')[0]\n",
    "    if st.button(f\"Run {script_name} reports script\"):\n",
    "        st.write(f\"Running {script_name} script...\")\n",
    "        output = run_script(script_path, user_id)\n",
    "        st.success(f\"Script {script_name} finished running successfully.\")\n",
    "        st.code(output)  # Display the output in the Streamlit app"
   ]
  }
 ],
 "metadata": {
  "kernelspec": {
   "display_name": "Python 3",
   "language": "python",
   "name": "python3"
  },
  "language_info": {
   "codemirror_mode": {
    "name": "ipython",
    "version": 3
   },
   "file_extension": ".py",
   "mimetype": "text/x-python",
   "name": "python",
   "nbconvert_exporter": "python",
   "pygments_lexer": "ipython3",
   "version": "3.11.2"
  },
  "orig_nbformat": 4
 },
 "nbformat": 4,
 "nbformat_minor": 2
}
